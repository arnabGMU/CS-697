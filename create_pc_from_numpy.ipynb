{
 "cells": [
  {
   "cell_type": "code",
   "execution_count": 1,
   "metadata": {},
   "outputs": [],
   "source": [
    "import io\n",
    "import open3d as o3d\n",
    "import scipy.io as sio\n",
    "import numpy as np\n",
    "import numpy.linalg as LA\n",
    "import copy\n",
    "import os\n",
    "import matplotlib.pyplot as plt"
   ]
  },
  {
   "cell_type": "code",
   "execution_count": 2,
   "metadata": {},
   "outputs": [],
   "source": [
    "color_images_path = './Home_002_1/jpg_rgb/'\n",
    "depth_images_path = './Home_002_1/high_res_depth/'"
   ]
  },
  {
   "cell_type": "code",
   "execution_count": 3,
   "metadata": {},
   "outputs": [],
   "source": [
    "color_images = sorted(os.listdir(color_images_path))\n",
    "depth_images = sorted(os.listdir(depth_images_path))"
   ]
  },
  {
   "cell_type": "code",
   "execution_count": 4,
   "metadata": {},
   "outputs": [],
   "source": [
    "cam1 = o3d.camera.PinholeCameraIntrinsic()\n",
    "cam1.intrinsic_matrix =  [[1070.58, 0.00, 927.269] , [0.00, 1069.126, 545.76], [0.00, 0.00, 1.00]]"
   ]
  },
  {
   "cell_type": "code",
   "execution_count": 5,
   "metadata": {},
   "outputs": [],
   "source": [
    "cx_rgb = cam1.intrinsic_matrix[0,2]\n",
    "cy_rgb = cam1.intrinsic_matrix[1,2]\n",
    "fx_rgb = cam1.intrinsic_matrix[0,0]\n",
    "fy_rgb = cam1.intrinsic_matrix[1,1]"
   ]
  },
  {
   "cell_type": "code",
   "execution_count": 6,
   "metadata": {},
   "outputs": [],
   "source": [
    "for i in range(50):\n",
    "    color_image_path = os.path.join(color_images_path, color_images[i])\n",
    "    depth_image_path = os.path.join(depth_images_path, depth_images[i])\n",
    "    \n",
    "    color_image = o3d.io.read_image(color_image_path)\n",
    "    depth_image = o3d.io.read_image(depth_image_path)\n",
    "    \n",
    "    depth = np.array(depth_image, dtype=np.int)/1000\n",
    "    #plt.imshow(depth); plt.show()\n",
    "    [nrows, ncols] = depth.shape\n",
    "    \n",
    "    pcloud = np.zeros([nrows, ncols, 3])\n",
    "    xgrid, ygrid = np.meshgrid(np.arange(0,ncols,1),np.arange(0,nrows,1)) \n",
    "    xgrid = xgrid - cx_rgb\n",
    "    ygrid = ygrid - cy_rgb\n",
    "    #pcloud = np.array(ncols,nrows,3)\n",
    "    pcloud[:,:,0] = (xgrid*depth)/fx_rgb;\n",
    "    pcloud[:,:,1] = (ygrid*depth)/fy_rgb;\n",
    "    pcloud[:,:,2] = depth\n",
    "    \n",
    "    pcloud = pcloud.reshape(-1,3)\n",
    "    \n",
    "    pcd = o3d.geometry.PointCloud()\n",
    "    pcd.points = o3d.utility.Vector3dVector(pcloud)\n",
    "    pcd.transform([[1, 0, 0, 0], [0, -1, 0, 0], [0, 0, -1, 0], [0, 0, 0, 1]])\n",
    "    #o3d.visualization.draw_geometries([pcd])\n",
    "    \n",
    "    o3d.io.write_point_cloud(f\"point_clouds_from_numpy/{i}.pcd\", pcd)\n",
    "    '''\n",
    "    fig = plt.figure()\n",
    "    ax = plt.axes(projection='3d')\n",
    "    ax.scatter3D(pcloud[:,:,0], pcloud[:,:,1], pcloud[:,:,2])\n",
    "    plt.show()\n",
    "    '''"
   ]
  },
  {
   "cell_type": "code",
   "execution_count": 7,
   "metadata": {},
   "outputs": [
    {
     "data": {
      "text/plain": [
       "<function ndarray.reshape>"
      ]
     },
     "execution_count": 7,
     "metadata": {},
     "output_type": "execute_result"
    }
   ],
   "source": [
    "pcloud.reshape"
   ]
  }
 ],
 "metadata": {
  "kernelspec": {
   "display_name": "Python 3",
   "language": "python",
   "name": "python3"
  },
  "language_info": {
   "codemirror_mode": {
    "name": "ipython",
    "version": 3
   },
   "file_extension": ".py",
   "mimetype": "text/x-python",
   "name": "python",
   "nbconvert_exporter": "python",
   "pygments_lexer": "ipython3",
   "version": "3.6.9"
  }
 },
 "nbformat": 4,
 "nbformat_minor": 2
}
