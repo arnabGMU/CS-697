{
 "cells": [
  {
   "cell_type": "code",
   "execution_count": 1,
   "metadata": {},
   "outputs": [],
   "source": [
    "import io\n",
    "import os\n",
    "import open3d as o3d\n",
    "import numpy as np\n",
    "import numpy.linalg as LA\n",
    "import copy\n",
    "from matplotlib import pyplot as plt"
   ]
  },
  {
   "cell_type": "code",
   "execution_count": 2,
   "metadata": {},
   "outputs": [],
   "source": [
    "path = 'pc_to_wc'\n",
    "point_cloud_path = os.listdir(path)\n",
    "pc_files = ([int(p.split('.')[0]) for p in point_cloud_path])\n",
    "point_clouds = ([os.path.join(path, f'{p}.pcd') for p in pc_files])"
   ]
  },
  {
   "cell_type": "code",
   "execution_count": 3,
   "metadata": {},
   "outputs": [],
   "source": [
    "max_x = -np.inf\n",
    "max_y = -np.inf\n",
    "max_z = -np.inf\n",
    "\n",
    "min_x = np.inf\n",
    "min_y = np.inf\n",
    "min_z = np.inf\n",
    "for pc in point_clouds:\n",
    "    pcd = o3d.io.read_point_cloud(pc)\n",
    "    pc_points = np.asarray(pcd.points)\n",
    "    \n",
    "    max_x_pc = np.max(pc_points[:,0])\n",
    "    max_y_pc = np.max(pc_points[:,1])\n",
    "    max_z_pc = np.max(pc_points[:,2])\n",
    "\n",
    "    min_x_pc = np.min(pc_points[:,0])\n",
    "    min_y_pc = np.min(pc_points[:,1])\n",
    "    min_z_pc = np.min(pc_points[:,2])\n",
    "    \n",
    "    if max_x_pc > max_x:\n",
    "        max_x = max_x_pc\n",
    "    if max_y_pc > max_y:\n",
    "        max_y = max_y_pc\n",
    "    if max_z_pc > max_z:\n",
    "        max_z = max_z_pc\n",
    "        \n",
    "    if min_x_pc < min_x:\n",
    "        min_x = min_x_pc\n",
    "    if min_y_pc < min_y:\n",
    "        min_y = min_y_pc\n",
    "    if min_z_pc < min_z:\n",
    "        min_z = min_z_pc "
   ]
  },
  {
   "cell_type": "code",
   "execution_count": 4,
   "metadata": {},
   "outputs": [
    {
     "data": {
      "text/plain": [
       "((-4.8300933837890625, 4.301366329193115),\n",
       " (-1.8508154153823853, 1.7481770515441895),\n",
       " (-7.266272068023682, 4.595304012298584))"
      ]
     },
     "execution_count": 4,
     "metadata": {},
     "output_type": "execute_result"
    }
   ],
   "source": [
    "(min_x, max_x), (min_y, max_y), (min_z, max_z)"
   ]
  },
  {
   "cell_type": "code",
   "execution_count": 5,
   "metadata": {},
   "outputs": [],
   "source": [
    "x_range = int((max_x - min_x) / 0.3)\n",
    "y_range = int((max_y - min_y) / 0.3)\n",
    "z_range = int((max_z - min_z) / 0.3)"
   ]
  },
  {
   "cell_type": "code",
   "execution_count": 6,
   "metadata": {},
   "outputs": [
    {
     "data": {
      "text/plain": [
       "(30, 11, 39)"
      ]
     },
     "execution_count": 6,
     "metadata": {},
     "output_type": "execute_result"
    }
   ],
   "source": [
    "(x_range, y_range, z_range)"
   ]
  },
  {
   "cell_type": "code",
   "execution_count": 15,
   "metadata": {},
   "outputs": [],
   "source": [
    "RESOLUTION = 0.3"
   ]
  },
  {
   "cell_type": "code",
   "execution_count": null,
   "metadata": {},
   "outputs": [],
   "source": [
    "random.seed(123)\n",
    "random.shuffle(point_clouds)"
   ]
  },
  {
   "cell_type": "code",
   "execution_count": 18,
   "metadata": {},
   "outputs": [],
   "source": [
    "occupancy_grid = np.ones((x_range, z_range))\n",
    "l = []\n",
    "l1 = []\n",
    "for pc in point_clouds[:30]:\n",
    "    pcd = o3d.io.read_point_cloud(pc)\n",
    "    pc_points = np.asarray(pcd.points)\n",
    "    \n",
    "    l1.append(pcd)\n",
    "    for point in pc_points:\n",
    "        x = int((point[0] - min_x) / RESOLUTION)\n",
    "        y = int((point[1] - min_y) / RESOLUTION)\n",
    "        z = int((point[2] - min_z) / RESOLUTION)\n",
    "        \n",
    "        if y <4:\n",
    "            l.append(point)\n",
    "        if occupancy_grid[x,z] == 1:\n",
    "            if y > 9:\n",
    "                occupancy_grid[x,z] = 0\n",
    "        \n",
    "        "
   ]
  },
  {
   "cell_type": "code",
   "execution_count": null,
   "metadata": {},
   "outputs": [],
   "source": [
    "pc_n = np.array(l)\n",
    "pcd_n = o3d.geometry.PointCloud()\n",
    "pcd_n.points = o3d.utility.Vector3dVector(pc_n)\n",
    "l1.append(pcd_n)\n",
    "o3d.visualization.draw_geometries(l1)"
   ]
  },
  {
   "cell_type": "code",
   "execution_count": 70,
   "metadata": {},
   "outputs": [],
   "source": [
    "plt.imshow(occupancy_grid)\n",
    "plt.show()"
   ]
  }
 ],
 "metadata": {
  "kernelspec": {
   "display_name": "Python 3",
   "language": "python",
   "name": "python3"
  },
  "language_info": {
   "codemirror_mode": {
    "name": "ipython",
    "version": 3
   },
   "file_extension": ".py",
   "mimetype": "text/x-python",
   "name": "python",
   "nbconvert_exporter": "python",
   "pygments_lexer": "ipython3",
   "version": "3.6.9"
  }
 },
 "nbformat": 4,
 "nbformat_minor": 2
}
