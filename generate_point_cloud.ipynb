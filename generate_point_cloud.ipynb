{
 "cells": [
  {
   "cell_type": "code",
   "execution_count": 2,
   "metadata": {},
   "outputs": [],
   "source": [
    "import os\n",
    "import open3d as o3d"
   ]
  },
  {
   "cell_type": "code",
   "execution_count": 3,
   "metadata": {},
   "outputs": [],
   "source": [
    "color_images_path = './Home_002_1/jpg_rgb/'\n",
    "depth_images_path = './Home_002_1/high_res_depth/'"
   ]
  },
  {
   "cell_type": "code",
   "execution_count": 4,
   "metadata": {},
   "outputs": [],
   "source": [
    "color_images = sorted(os.listdir(color_images_path))\n",
    "depth_images = sorted(os.listdir(depth_images_path))"
   ]
  },
  {
   "cell_type": "code",
   "execution_count": 5,
   "metadata": {},
   "outputs": [],
   "source": [
    "cam1 = o3d.camera.PinholeCameraIntrinsic()\n",
    "cam1.intrinsic_matrix =  [[1070.58, 0.00, 927.269] , [0.00, 1069.126, 545.76], [0.00, 0.00, 1.00]]\n",
    "#cam1.intrinsic_matrix =  [[112, 0.00, 112] , [0.00, 112, 112], [0.00, 0.00, 1.00]]"
   ]
  },
  {
   "cell_type": "code",
   "execution_count": 8,
   "metadata": {},
   "outputs": [],
   "source": [
    "path = './point_clouds'\n",
    "if os.path.isdir(path) == False:\n",
    "    os.mkdir(path)"
   ]
  },
  {
   "cell_type": "code",
   "execution_count": 6,
   "metadata": {},
   "outputs": [],
   "source": [
    "for i in range(len(color_images)):\n",
    "    color_image_path = os.path.join(color_images_path, color_images[i])\n",
    "    depth_image_path = os.path.join(depth_images_path, depth_images[i])\n",
    "    \n",
    "    color_image = o3d.io.read_image(color_image_path)\n",
    "    depth_image = o3d.io.read_image(depth_image_path)\n",
    "    \n",
    "    rgbd_image = o3d.geometry.RGBDImage.create_from_color_and_depth(\n",
    "        color_image,\n",
    "        depth_image\n",
    "    )    \n",
    "    pcd = o3d.geometry.PointCloud.create_from_rgbd_image(\n",
    "        rgbd_image,\n",
    "        cam1)\n",
    "    # Flip it, otherwise the pointcloud will be upside down\n",
    "    pcd.transform([[1, 0, 0, 0], [0, -1, 0, 0], [0, 0, -1, 0], [0, 0, 0, 1]])\n",
    "    #o3d.visualization.draw_geometries([pcd])\n",
    "    o3d.io.write_point_cloud(f\"point_clouds/{i}.pcd\", pcd)"
   ]
  }
 ],
 "metadata": {
  "kernelspec": {
   "display_name": "Python 3",
   "language": "python",
   "name": "python3"
  },
  "language_info": {
   "codemirror_mode": {
    "name": "ipython",
    "version": 3
   },
   "file_extension": ".py",
   "mimetype": "text/x-python",
   "name": "python",
   "nbconvert_exporter": "python",
   "pygments_lexer": "ipython3",
   "version": "3.6.9"
  }
 },
 "nbformat": 4,
 "nbformat_minor": 2
}
