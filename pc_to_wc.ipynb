{
 "cells": [
  {
   "cell_type": "code",
   "execution_count": 2,
   "metadata": {},
   "outputs": [],
   "source": [
    "import io\n",
    "import open3d as o3d\n",
    "import scipy.io as sio\n",
    "import numpy as np\n",
    "import numpy.linalg as LA\n",
    "import copy\n",
    "import random"
   ]
  },
  {
   "cell_type": "code",
   "execution_count": 11,
   "metadata": {},
   "outputs": [],
   "source": [
    "path = 'Home_002_1/image_structs.mat'\n",
    "data = sio.loadmat(path)"
   ]
  },
  {
   "cell_type": "code",
   "execution_count": 12,
   "metadata": {},
   "outputs": [],
   "source": [
    "\"\"\"\n",
    "From the image_structs.mat file make a dictionary \n",
    "called output(image number: (x,z,R,t,s))\n",
    "\"\"\"\n",
    "xyz = data['image_structs']['world_pos']\n",
    "image_names = data['image_structs']['image_name'][0]\n",
    "rot = data['image_structs']['R'][0] \n",
    "scale = data['scale'][0][0]\n",
    "#translation = -1*data['image_structs']['t'][0]\n",
    "translation = xyz[0]\n",
    "n = xyz.shape[1]\n",
    "x = [xyz[0][i][0][0] for i in range(n)]\n",
    "z = [xyz[0][i][2][0] for i in range(n)]\n",
    "names = [name[0][:-4] for name in image_names]\n",
    "if len(names) != len(x):\n",
    "    raise ValueError('number of image names are not equal to the number of '\n",
    "                 'poses {} != {}'.format(len(names), len(x)))\n",
    "output = {}\n",
    "valid_images = []\n",
    "for i in range(n):\n",
    "    #For some images, there's no translation matrix provided.\n",
    "    if rot[i].shape[0] != 0:\n",
    "        assert rot[i].shape[0] == 3\n",
    "        assert rot[i].shape[1] == 3 \n",
    "        valid_images.append(i)\n",
    "        \n",
    "        #translation[i][0] = translation[i][0] * -1\n",
    "        translation[i][1] = translation[i][1] * -1\n",
    "        translation[i][2] = translation[i][2] * -1\n",
    "            \n",
    "        output[i] = (x[i], z[i], rot[i], translation[i]*(scale)/1000, scale)\n",
    "        #output[i] = (x[i], z[i], rot[i], xyz[0][i]*scale/1000, scale)\n",
    "        #output[i] = (x[i], z[i], LA.inv(rot[i]), np.matmul((-1*LA.inv(rot[i])), translation[i])*scale/1000, scale)\n",
    "        #output[i] = (x[i], z[i], rot[i], np.matmul((-1*LA.inv(rot[i])), translation[i])*scale/1000, scale)\n",
    "    else:\n",
    "        continue\n",
    "        #translation[i][0] = translation[i][0] * -1\n",
    "        #translation[i][1] = translation[i][1] * -1\n",
    "        #translation[i][2] = translation[i][2] * -1\n",
    "        output[i] = (x[i], z[i], None, translation[i]*(scale)/1000, scale)\n",
    "    "
   ]
  },
  {
   "cell_type": "code",
   "execution_count": 13,
   "metadata": {},
   "outputs": [],
   "source": [
    "def transformation_matrix(R, t):\n",
    "    \"\"\"\n",
    "    Make Transformation matrix T, from rotation matrix R and translation matrix t\n",
    "    \"\"\"\n",
    "    \n",
    "    T = np.empty((4,4))\n",
    "    T[:3,:3] = R\n",
    "    try:\n",
    "        T[:3,3] = t.reshape(3)\n",
    "    except:\n",
    "        T[:3,3] = None\n",
    "    T[3:,] = [0,0,0,1]\n",
    "    return T"
   ]
  },
  {
   "cell_type": "code",
   "execution_count": 14,
   "metadata": {},
   "outputs": [],
   "source": [
    "transformation_matrices = {}"
   ]
  },
  {
   "cell_type": "code",
   "execution_count": 15,
   "metadata": {},
   "outputs": [],
   "source": [
    "#For each image, make the transformation matrix from pose\n",
    "for i in valid_images:\n",
    "    R = output[i][2]\n",
    "    t = output[i][3]\n",
    "    T = transformation_matrix(R,t)\n",
    "    transformation_matrices[i] = T"
   ]
  },
  {
   "cell_type": "code",
   "execution_count": 18,
   "metadata": {},
   "outputs": [],
   "source": [
    "random.seed(123)\n",
    "random.shuffle(valid_images)"
   ]
  },
  {
   "cell_type": "code",
   "execution_count": 19,
   "metadata": {},
   "outputs": [],
   "source": [
    "#Read all/some of the point clouds\n",
    "#pcds = []\n",
    "path = './pc_to_wc'\n",
    "if os.path.isdir(path) == False:\n",
    "    os.mkdir(path)\n",
    "for i in valid_images:\n",
    "    pcd = o3d.io.read_point_cloud(f'./point_clouds/{i}.pcd')\n",
    "    pcd.voxel_down_sample(voxel_size=0.05)\n",
    "    \n",
    "    pcd.transform(transformation_matrices[i])\n",
    "    #pcds.append(pcd)\n",
    "    o3d.io.write_point_cloud(f\"{path}/{i}.pcd\", pcd)      "
   ]
  },
  {
   "cell_type": "code",
   "execution_count": 20,
   "metadata": {},
   "outputs": [],
   "source": [
    "o3d.visualization.draw_geometries(pcds)"
   ]
  },
  {
   "cell_type": "code",
   "execution_count": 9,
   "metadata": {},
   "outputs": [],
   "source": [
    "\"\"\"\n",
    "Calculate the relative transformation matrix, which will transform the point clouds\n",
    "from any frame to the first frame\n",
    "\n",
    "path = './pc_to_wc'\n",
    "for i in range(len(pcds)):\n",
    "    #if i != 0:\n",
    "    #    T = np.matmul(transformation_matrices[i], LA.inv(transformation_matrices[0]))\n",
    "    #    pcds[i].transform(T)\n",
    "        #pcds[i].transform(transformation_matrices[i])\n",
    "    pcds[i].transform(transformation_matrices[i])\n",
    "    #o3d.io.write_point_cloud(f\"{path}/{i+200}.pcd\", pcds[i])     \n",
    "\"\"\""
   ]
  },
  {
   "cell_type": "code",
   "execution_count": 7,
   "metadata": {},
   "outputs": [],
   "source": []
  }
 ],
 "metadata": {
  "kernelspec": {
   "display_name": "Python 3",
   "language": "python",
   "name": "python3"
  },
  "language_info": {
   "codemirror_mode": {
    "name": "ipython",
    "version": 3
   },
   "file_extension": ".py",
   "mimetype": "text/x-python",
   "name": "python",
   "nbconvert_exporter": "python",
   "pygments_lexer": "ipython3",
   "version": "3.6.9"
  }
 },
 "nbformat": 4,
 "nbformat_minor": 2
}
